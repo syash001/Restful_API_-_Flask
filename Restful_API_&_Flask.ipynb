{
  "nbformat": 4,
  "nbformat_minor": 0,
  "metadata": {
    "colab": {
      "provenance": []
    },
    "kernelspec": {
      "name": "python3",
      "display_name": "Python 3"
    },
    "language_info": {
      "name": "python"
    }
  },
  "cells": [
    {
      "cell_type": "markdown",
      "source": [
        "##Restful API & Flask\n"
      ],
      "metadata": {
        "id": "1lCX7M1sROJu"
      }
    },
    {
      "cell_type": "markdown",
      "source": [
        "#Theoretical Questions"
      ],
      "metadata": {
        "id": "OyRjyE0MRV21"
      }
    },
    {
      "cell_type": "markdown",
      "source": [
        "1.What is a RESTful API?\n",
        "- A RESTful API is an architectural style for networked applications, emphasizing stateless communication, resource identification via URIs, and standard HTTP methods.\n",
        "\n",
        "2.Explain the concept of API specification.\n",
        "- An API specification is a detailed, standardized document describing an API's functionality, endpoints, request/response formats, and other operational details, acting as a contract for developers.\n",
        "\n",
        "3.What is Flask, and why is it popular for building APIs?\n",
        "_ Flask is a lightweight Python web framework. It's popular for APIs due to its minimalism, flexibility, ease of learning, and extensibility, allowing developers to choose specific tools.\n",
        "\n",
        "4.What is routing in Flask?\n",
        "- Routing in Flask maps specific URL paths to Python functions (view functions) that handle client requests to those URLs, defined using @app.route().\n",
        "\n",
        "5.How do you create a simple Flask application?\n",
        "- Create a Python file (app.py), import Flask, instantiate app = Flask(__name__), define a route with @app.route('/') and a view function, then run with app.run().\n",
        "\n",
        "6.What are HTTP methods used in RESTful APIs?\n",
        "- Common HTTP methods are: GET (retrieve), POST (create), PUT (full update/replace), PATCH (partial update), and DELETE (remove).\n",
        "\n",
        "7.What is the purpose of the @app.route() decorator in Flask?\n",
        "- The @app.route() decorator links a specific URL path to a Python function, telling Flask which code to execute when that URL is requested.\n",
        "\n",
        "8.What is the difference between GET and POST HTTP methods?\n",
        "- GET retrieves data, is safe/idempotent, and sends data in the URL. POST submits data (often to create), is not idempotent, and sends data in the request body.\n",
        "\n",
        "9.How do you handle errors in Flask APIs?\n",
        "- Errors are handled using abort() to immediately return an HTTP error, and @app.errorhandler() to register custom functions for specific error codes or exceptions.\n",
        "\n",
        "10.How do you connect Flask to a SQL database?\n",
        "- Connect Flask to a SQL database typically using a Python database connector (like psycopg2 for PostgreSQL or mysql-connector-python for MySQL) or an ORM like SQLAlchemy, often via a Flask extension like Flask-SQLAlchemy.\n",
        "\n",
        "11.What is the role of Flask-SQLAlchemy?\n",
        "- Flask-SQLAlchemy integrates SQLAlchemy (a Python SQL Toolkit and ORM) into Flask, simplifying database operations by providing an ORM for object-relational mapping.\n",
        "\n",
        "12.What are Flask blueprints, and how are they useful?\n",
        "- Flask Blueprints are modular components that allow you to organize your Flask application into reusable, separate units. They are useful for structuring larger applications, enhancing maintainability, and enabling code reusability.\n",
        "\n",
        "13.What is the purpose of Flask's request object?\n",
        "- Flask's request object provides access to incoming request data such as HTTP method, URL parameters, form data, JSON payload, headers, and cookies.\n",
        "\n",
        "14.How do you create a RESTful API endpoint using Flask?\n",
        "- Create a RESTful API endpoint by defining a Flask route (@app.route()) for a specific resource path, handling different HTTP methods (GET, POST, PUT, DELETE) within the associated view function, and returning JSON responses using jsonify().\n",
        "\n",
        "15.What is the purpose of Flask's jsonify() function?\n",
        "- Flask's jsonify() function serializes Python dictionaries or lists into JSON format and sets the Content-Type header to application/json, making it easy to return JSON responses from API endpoints.\n",
        "\n",
        "16,Explain Flask’s url_for() function.\n",
        "- Flask's url_for() function is used for URL building. It generates a URL for a given view function, allowing you to avoid hardcoding URLs and making your application more flexible and resilient to URL changes.\n",
        "\n",
        "17.How does Flask handle static files (CSS, JavaScript, etc.)?\n",
        "- Flask handles static files by serving them from a default static/ directory in your application root. You can link to them in templates using url_for('static', filename='path/to/file.css').\n",
        "\n",
        "18.What is an API specification, and how does it help in building a Flask API?\n",
        "- An API specification (e.g., OpenAPI/Swagger) details the API's structure, endpoints, and data formats. It helps build a Flask API by providing a clear blueprint, enabling faster development, ensuring consistency, and facilitating automated documentation and testing.\n",
        "\n",
        "19.What are HTTP status codes, and why are they important in a Flask API?\n",
        "- HTTP status codes are three-digit numbers returned by the server to indicate the status of a request (e.g., 200 OK, 404 Not Found, 500 Internal Server Error). They are crucial in a Flask API for informing clients about the success or failure of their requests and the nature of any issues.\n",
        "\n",
        "20.How do you handle POST requests in Flask?\n",
        "- Handle POST requests in Flask by adding methods=['POST'] to the @app.route() decorator, and then accessing the submitted data from the request.form (for form data) or request.json (for JSON data) objects within the view function.\n",
        "\n",
        "21.How would you secure a Flask API?\n",
        "- Secure a Flask API by implementing authentication (e.g., JWT, OAuth), authorization (role-based access), input validation to prevent injections, HTTPS for encrypted communication, rate limiting, and proper error handling to avoid exposing sensitive information.\n",
        "\n",
        "22.What is the significance of the Flask-RESTful extension?\n",
        "- Flask-RESTful is a Flask extension that simplifies building REST APIs by providing abstractions for resources, request parsing, and error handling, reducing boilerplate code.\n",
        "\n",
        "23.What is the role of Flask’s session object?\n",
        "- Flask's session object allows you to store user-specific data across multiple requests (e.g., login status, shopping cart items) in a secure, signed cookie, maintaining state between stateless HTTP interactions."
      ],
      "metadata": {
        "id": "n512M3WbRcAV"
      }
    },
    {
      "cell_type": "markdown",
      "source": [
        "#Practical Question"
      ],
      "metadata": {
        "id": "199YOmjITOqr"
      }
    },
    {
      "cell_type": "code",
      "source": [
        "#1.How do you create a basic Flask application?\n",
        "from flask import Flask\n",
        "\n",
        "app = Flask(__name__)\n",
        "\n",
        "@app.route('/')\n",
        "def home():\n",
        "    return \"Hello, Flask!\"\n",
        "\n",
        "if __name__ == '__main__':\n",
        "    app.run(debug=True)"
      ],
      "metadata": {
        "id": "5ZXiicU0TiWs"
      },
      "execution_count": 1,
      "outputs": []
    },
    {
      "cell_type": "code",
      "source": [
        "#2.How do you serve static files like images or CSS in Flask?\n",
        "<link rel=\"stylesheet\" href=\"{{ url_for('static', filename='style.css') }}\">\n",
        "<img src=\"{{ url_for('static', filename='logo.png') }}\">"
      ],
      "metadata": {
        "id": "WtTaNSw8Tm18"
      },
      "execution_count": null,
      "outputs": []
    },
    {
      "cell_type": "code",
      "source": [
        "#3. How do you define different routes with different HTTP methods in Flask?\n",
        "@app.route('/submit', methods=['GET', 'POST'])\n",
        "def submit():\n",
        "    if request.method == 'POST':\n",
        "        return \"Form Submitted\"\n",
        "    return \"Submit Form\""
      ],
      "metadata": {
        "id": "cxkN624FTmq-"
      },
      "execution_count": null,
      "outputs": []
    },
    {
      "cell_type": "code",
      "source": [
        "#4.How do you render HTML templates in Flask.\n",
        "from flask import render_template\n",
        "\n",
        "@app.route('/')\n",
        "def index():\n",
        "    return render_template('index.html')"
      ],
      "metadata": {
        "id": "kkQzrLCzTmda"
      },
      "execution_count": null,
      "outputs": []
    },
    {
      "cell_type": "code",
      "source": [
        "#5.How can you generate URLs for routes in Flask using url_for.\n",
        "from flask import url_for\n",
        "\n",
        "@app.route('/dashboard')\n",
        "def dashboard():\n",
        "    return \"Dashboard\"\n",
        "\n",
        "@app.route('/go')\n",
        "def go():\n",
        "    return redirect(url_for('dashboard'))"
      ],
      "metadata": {
        "id": "G5bpKrR4TmR-"
      },
      "execution_count": null,
      "outputs": []
    },
    {
      "cell_type": "code",
      "source": [
        "#6.How do you handle forms in Flask.\n",
        "from flask import request\n",
        "\n",
        "@app.route('/login', methods=['GET', 'POST'])\n",
        "def login():\n",
        "    if request.method == 'POST':\n",
        "        username = request.form['username']\n",
        "        return f\"Welcome {username}\"\n",
        "    return render_template('login.html')"
      ],
      "metadata": {
        "id": "ixXARe1eTmEJ"
      },
      "execution_count": null,
      "outputs": []
    },
    {
      "cell_type": "code",
      "source": [
        "#7.How can you validate form data in Flask.\n",
        "from flask_wtf import FlaskForm\n",
        "from wtforms import StringField\n",
        "from wtforms.validators import DataRequired\n",
        "\n",
        "class MyForm(FlaskForm):\n",
        "    name = StringField('Name', validators=[DataRequired()])"
      ],
      "metadata": {
        "id": "rvhVjtYFTl2H"
      },
      "execution_count": null,
      "outputs": []
    },
    {
      "cell_type": "code",
      "source": [
        "#8.How do you manage sessions in Flask.\n",
        "from flask import session\n",
        "\n",
        "app.secret_key = 'secret'  # Required for session\n",
        "\n",
        "@app.route('/set')\n",
        "def set_session():\n",
        "    session['user'] = 'Yash'\n",
        "    return \"Session Set\"\n",
        "\n",
        "@app.route('/get')\n",
        "def get_session():\n",
        "    return session.get('user', 'Not set')"
      ],
      "metadata": {
        "id": "1rTlOscATlln"
      },
      "execution_count": null,
      "outputs": []
    },
    {
      "cell_type": "code",
      "source": [
        "#9.How do you redirect to a different route in Flask.\n",
        "from flask import redirect, url_for\n",
        "\n",
        "@app.route('/home')\n",
        "def home():\n",
        "    return redirect(url_for('dashboard'))"
      ],
      "metadata": {
        "id": "fykpy_P5TlKZ"
      },
      "execution_count": null,
      "outputs": []
    },
    {
      "cell_type": "code",
      "source": [
        "#10.How do you handle errors in Flask (e.g., 404)?\n",
        "@app.errorhandler(404)\n",
        "def not_found(error):\n",
        "    return render_template('404.html'), 404"
      ],
      "metadata": {
        "id": "JO2PvVUpUaHB"
      },
      "execution_count": null,
      "outputs": []
    },
    {
      "cell_type": "code",
      "source": [
        "#11.How do you structure a Flask app using Blueprints?\n",
        "# In user.py\n",
        "from flask import Blueprint\n",
        "user_bp = Blueprint('user', __name__)\n",
        "\n",
        "@user_bp.route('/profile')\n",
        "def profile():\n",
        "    return \"User Profile\"\n",
        "\n",
        "# In main app\n",
        "from user import user_bp\n",
        "app.register_blueprint(user_bp, url_prefix='/user')"
      ],
      "metadata": {
        "id": "uAxC8HeLUZ23"
      },
      "execution_count": null,
      "outputs": []
    },
    {
      "cell_type": "code",
      "source": [
        "#12.How do you define a custom Jinja filter in Flask?\n",
        "@app.template_filter('reverse')\n",
        "def reverse_filter(s):\n",
        "    return s[::-1]\n",
        "\n",
        "# In template: {{ 'hello'|reverse }}"
      ],
      "metadata": {
        "id": "sR27L81cUZoB"
      },
      "execution_count": null,
      "outputs": []
    },
    {
      "cell_type": "code",
      "source": [
        "#13.How can you redirect with query parameters in Flask?\n",
        "return redirect(url_for('search', q='flask'))\n",
        "\n",
        "\n",
        "@app.route('/search')\n",
        "def search():\n",
        "    query = request.args.get('q')\n",
        "    return f\"Search results for {query}\""
      ],
      "metadata": {
        "id": "Xt1heHq_UZYJ"
      },
      "execution_count": null,
      "outputs": []
    },
    {
      "cell_type": "code",
      "source": [
        "#14.How do you return JSON responses in Flask?\n",
        "from flask import jsonify\n",
        "\n",
        "@app.route('/api')\n",
        "def api():\n",
        "    return jsonify({'name': 'Yash', 'age': 25})"
      ],
      "metadata": {
        "id": "I20oMnvfU9C6"
      },
      "execution_count": null,
      "outputs": []
    },
    {
      "cell_type": "code",
      "source": [
        "#15.How do you capture URL parameters in Flask?\n",
        "@app.route('/user/<username>')\n",
        "def show_user(username):\n",
        "    return f\"User: {username}\""
      ],
      "metadata": {
        "id": "8lZCrkzVU8jc"
      },
      "execution_count": null,
      "outputs": []
    }
  ]
}